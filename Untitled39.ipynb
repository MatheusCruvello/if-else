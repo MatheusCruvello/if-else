{
  "nbformat": 4,
  "nbformat_minor": 0,
  "metadata": {
    "colab": {
      "provenance": []
    },
    "kernelspec": {
      "name": "python3",
      "display_name": "Python 3"
    },
    "language_info": {
      "name": "python"
    }
  },
  "cells": [
    {
      "cell_type": "code",
      "execution_count": 1,
      "metadata": {
        "colab": {
          "base_uri": "https://localhost:8080/"
        },
        "id": "9-u-JuOEAZmm",
        "outputId": "781ef200-2d37-4186-d304-86b0d6579dc9"
      },
      "outputs": [
        {
          "output_type": "stream",
          "name": "stdout",
          "text": [
            "digite um numero 6\n",
            "positivo\n"
          ]
        }
      ],
      "source": [
        "a = int(input(\"digite um numero \"))\n",
        "if a > 0:\n",
        " print(\"positivo\")\n",
        "elif a ==0 :\n",
        " print(\"seu numero e 0\")\n",
        "else:\n",
        " print(\"negativo\")"
      ]
    },
    {
      "cell_type": "code",
      "source": [
        "sexo = input(\"digite m para o sexo masculino ou f para o sexo feminino \")\n",
        "if sexo ==\"m\" or sexo == \"M\":\n",
        " print(\"sexo masculino\")\n",
        "elif sexo ==\"f\" or sexo == \"f\":\n",
        "  print(\"sexo feminino\")\n",
        "else:\n",
        "  print(\"invalido\")"
      ],
      "metadata": {
        "colab": {
          "base_uri": "https://localhost:8080/"
        },
        "id": "7A7NyGbOAlGr",
        "outputId": "b5ec3c5d-5d91-440b-8dce-117c634d4853"
      },
      "execution_count": 2,
      "outputs": [
        {
          "output_type": "stream",
          "name": "stdout",
          "text": [
            "digite m para o sexo masculino ou f para o sexo feminino m\n",
            "sexo masculino\n"
          ]
        }
      ]
    },
    {
      "cell_type": "code",
      "source": [
        "letra = input(\"digite uma letra \")\n",
        "if letra == \"A\" or letra == \"a\" or letra == \"E\" or letra == \"i\" or letra == \"I\" or letra == \"o\" or letra == \"O\" or letra == \"u\" or letra == \"U\":\n",
        " print(\"sua letra é uma vogal\")\n",
        "else:\n",
        "   print(\"sua letra é uma consoante\")"
      ],
      "metadata": {
        "colab": {
          "base_uri": "https://localhost:8080/"
        },
        "id": "FiZ7y2NaArMc",
        "outputId": "07f7afe6-74fa-468b-dd08-02b10933ac1c"
      },
      "execution_count": 3,
      "outputs": [
        {
          "output_type": "stream",
          "name": "stdout",
          "text": [
            "digite uma letra e\n",
            "sua letra é uma consoante\n"
          ]
        }
      ]
    },
    {
      "cell_type": "code",
      "source": [
        "parcial1 = int(input(\"digite sua nota\"))\n",
        "parcial2 = int(input(\"digite sua nota\"))\n",
        "final = (parcial1 + parcial2) / 2\n",
        "if final >= 10:\n",
        " print(\"voce foi aprovado com dintinção\")\n",
        " print(final)\n",
        "elif final >= 7:\n",
        "  print(\"voce foi aprovado com\")\n",
        "else:\n",
        " print(\"voce foi reprovado com\")\n",
        " print(final)"
      ],
      "metadata": {
        "colab": {
          "base_uri": "https://localhost:8080/"
        },
        "id": "cJB9-jiXAzEA",
        "outputId": "0a0c21b5-19ff-4992-84bc-f1d9bb0800aa"
      },
      "execution_count": 4,
      "outputs": [
        {
          "output_type": "stream",
          "name": "stdout",
          "text": [
            "digite sua nota10\n",
            "digite sua nota10\n",
            "voce foi aprovado com dintinção\n",
            "10.0\n"
          ]
        }
      ]
    },
    {
      "cell_type": "code",
      "source": [
        "a = int (input(\"digite um numero\"))\n",
        "b = int (input(\"digite um numero\"))\n",
        "c = int (input(\"digite um numero\"))\n",
        "if a > b and a > c:\n",
        " print(a)\n",
        "elif b > a and b > c:\n",
        " print(b)\n",
        "else:\n",
        "  if c > a and c > b:\n",
        "    print(c)"
      ],
      "metadata": {
        "colab": {
          "base_uri": "https://localhost:8080/"
        },
        "id": "208a4EwfA-eD",
        "outputId": "18bcdff4-27d4-404c-dd6d-db020bfb7205"
      },
      "execution_count": 5,
      "outputs": [
        {
          "output_type": "stream",
          "name": "stdout",
          "text": [
            "digite um numero12\n",
            "digite um numero14\n",
            "digite um numero15\n",
            "15\n"
          ]
        }
      ]
    },
    {
      "cell_type": "code",
      "source": [
        "n1 = int (input(\"insira o primeiro numero \"))\n",
        "n2 = int (input(\"insira o segundo numero \"))\n",
        "n3 = int (input(\"insira o terceiro numero \"))\n",
        "if n1 >= n2 and n1 >= n3:\n",
        "  print(\"o maior é\",n1)\n",
        "elif n2 >= n1 and n2 >= n3:\n",
        "  print(\"o maior é\",n2)\n",
        "else:\n",
        "  if n3 >= n1 and n3 >= n2:\n",
        "    print(\"o maior é\",n3)\n",
        "if n1 <= n2 and n1 <= n3:\n",
        "  print(\"o menor é\",n1)\n",
        "elif n2 <= n1 and n2 <= n3:\n",
        "  print(\"o menor é\",n2)\n",
        "elif n3 <= n1 and n3 <= n2:\n",
        "    print(\"o menor é\",n3)"
      ],
      "metadata": {
        "colab": {
          "base_uri": "https://localhost:8080/"
        },
        "id": "7j48M9_lBDbm",
        "outputId": "5b8869dd-90ca-475c-b8e4-97b4f4020b02"
      },
      "execution_count": 6,
      "outputs": [
        {
          "output_type": "stream",
          "name": "stdout",
          "text": [
            "insira o primeiro numero 13\n",
            "insira o segundo numero 23\n",
            "insira o terceiro numero 87\n",
            "o maior é 87\n",
            "o menor é 13\n"
          ]
        }
      ]
    },
    {
      "cell_type": "code",
      "source": [
        "preço1 = int (input(\"insira o primeiro numero \"))\n",
        "preço2 = int (input(\"insira o segundo numero \"))\n",
        "preço3 = int (input(\"insira o terceiro numero \"))\n",
        "if preço1 <= preço2 and preço1 <= preço3:\n",
        "  print(\"o menor e mais indicado\",preço1)\n",
        "elif preço2 <= preço1 and preço2 <= preço3:\n",
        "  print(\"o menor e mais indicado\",preço2)\n",
        "else:\n",
        "  if preço3 <= preço1 and preço3 <= preço2:\n",
        "    print(\"o menor e mais indicado\",preço3)"
      ],
      "metadata": {
        "colab": {
          "base_uri": "https://localhost:8080/"
        },
        "id": "q4LZQcVyBJfp",
        "outputId": "a8b3dd60-e586-40ea-c733-e161fd5366b3"
      },
      "execution_count": 7,
      "outputs": [
        {
          "output_type": "stream",
          "name": "stdout",
          "text": [
            "insira o primeiro numero 12\n",
            "insira o segundo numero 23\n",
            "insira o terceiro numero 99\n",
            "o menor e mais indicado 12\n"
          ]
        }
      ]
    },
    {
      "cell_type": "code",
      "source": [
        "a = int (input(\"digite um numero\"))\n",
        "b = int (input(\"digite um numero\"))\n",
        "c = int (input(\"digite um numero\"))\n",
        "if a > b and b > c:\n",
        "  print(a, b, c)\n",
        "elif a > b and b < c:\n",
        "  print (a, c, b)\n",
        "elif b > a and a < c:\n",
        "  print(b, c, a)\n",
        "elif b > a and a > c:\n",
        "  print(b, a, c)\n",
        "elif c > a and a > b:\n",
        "  print(c, a, b)\n",
        "elif c> b and b > a:\n",
        "  print(c, b, a)\n",
        "else:\n",
        "  print(\"seu numero esta repetido\")"
      ],
      "metadata": {
        "colab": {
          "base_uri": "https://localhost:8080/"
        },
        "id": "2Jvai2mUBVx9",
        "outputId": "9db8a463-4f92-4aae-cd6f-fbdcf60df2c5"
      },
      "execution_count": 8,
      "outputs": [
        {
          "output_type": "stream",
          "name": "stdout",
          "text": [
            "digite um numero12\n",
            "digite um numero34\n",
            "digite um numero87\n",
            "34 87 12\n"
          ]
        }
      ]
    },
    {
      "cell_type": "code",
      "source": [
        "a = input(\"Digite o primeiro numero \")# a variavel a esta recebendo o valor digitado pelo input do usuario após escrever uma mensagem\n",
        "b = input(\"Digite o segundo numero \")# a variavel b esta recebendo o valor digitado pelo input do usuario após escrever uma mensagem\n",
        "if b > a: #se o valor de b for maior que o valor de a, faça\n",
        " print(b) # escrever o valor de b na tela\n",
        "elif b == a:#senão se b for igual a a então\n",
        " print(\"Os numeros são iguais\")# escreve na tela uma mensagem \"os numeros sao iguais\"\n",
        "else:# senão (negando que b seja maior que a ou que seja igual a 'a')\n",
        " print(a)# escrever na tela o valor de a"
      ],
      "metadata": {
        "colab": {
          "base_uri": "https://localhost:8080/"
        },
        "id": "3_P-TMc_Bgw2",
        "outputId": "dc1edf52-f429-40d6-f5f3-f8367f47e6b3"
      },
      "execution_count": 10,
      "outputs": [
        {
          "output_type": "stream",
          "name": "stdout",
          "text": [
            "Digite o primeiro numero 13\n",
            "Digite o segundo numero 25\n",
            "25\n"
          ]
        }
      ]
    },
    {
      "cell_type": "code",
      "source": [
        "maior=0\n",
        "menor=0\n",
        "\n",
        "a= float(input(\"digite o primeiro numero\"))\n",
        "b= float(input(\"digite o segundo numero\"))\n",
        "c= float(input(\"digite o terceiro numero\"))\n",
        "\n",
        "if a >= b and a >= c:\n",
        "  maior=a\n",
        "elif b >= a and b >= c:\n",
        "  maior=b\n",
        "else:\n",
        "  maior=c\n",
        "if a <= b and a <= c:\n",
        "  menor=a\n",
        "elif b <= a and b <= c:\n",
        "  menor=b\n",
        "else:\n",
        "  menor=c\n",
        "\n",
        "  print(\"numero maior\", maior)\n",
        "  print(\"numero menor\", menor)"
      ],
      "metadata": {
        "colab": {
          "base_uri": "https://localhost:8080/"
        },
        "id": "OZtC44KIBoPC",
        "outputId": "dead45a1-854e-460d-dee4-eeafda3cbae4"
      },
      "execution_count": 12,
      "outputs": [
        {
          "name": "stdout",
          "output_type": "stream",
          "text": [
            "digite o primeiro numero12\n",
            "digite o segundo numero32\n",
            "digite o terceiro numero45\n"
          ]
        }
      ]
    },
    {
      "cell_type": "code",
      "source": [
        "turno= input(\"digite seu turno\")\n",
        "if turno ==\"m\" or turno == \"M\":\n",
        "  print(\"bom dia\")\n",
        "elif turno ==\"v\" or turno == \"V\":\n",
        "  print(\"boa tarde\")\n",
        "elif turno ==\"n\" or turno == \"N\":\n",
        "  print(\"boa noite\")\n",
        "else:\n",
        "  print(\"Valor inválido\")"
      ],
      "metadata": {
        "colab": {
          "base_uri": "https://localhost:8080/"
        },
        "id": "CNnW12ZvBsQF",
        "outputId": "24c8851f-b7cb-4673-df7e-342016f76ef9"
      },
      "execution_count": 17,
      "outputs": [
        {
          "output_type": "stream",
          "name": "stdout",
          "text": [
            "digite seu turnob\n",
            "Valor inválido\n"
          ]
        }
      ]
    },
    {
      "cell_type": "code",
      "source": [
        "calendario= input(\"digite o dia da semana\")\n",
        "if calendario == \"1\" or calendario == \"1\":\n",
        " print (\"hoje é domingo\")\n",
        "elif calendario == \"2\" or calendario ==\"2\":\n",
        " print (\"hoje é segunda-feira\")\n",
        "elif calendario == \"3\" or calendario ==\"3\":\n",
        " print (\"hoje é terça-feira\")\n",
        "elif calendario == \"4\" or calendario ==\"4\":\n",
        " print (\"hoje é quarta-feira\")\n",
        "elif calendario == \"5\" or calendario ==\"5\":\n",
        " print (\"hoje é quinta-feira\")\n",
        "elif calendario == \"6\" or calendario ==\"6\":\n",
        " print (\"hoje é sexta-feira\")\n",
        "elif calendario == \"7\" or calendario ==\"7\":\n",
        " print (\"hoje é sábado\")\n",
        "else:\n",
        " print (\"valor invalido\")"
      ],
      "metadata": {
        "colab": {
          "base_uri": "https://localhost:8080/"
        },
        "id": "OaXezt4QB-i7",
        "outputId": "d65c3797-aae7-4b77-9a62-53f07f375fed"
      },
      "execution_count": 15,
      "outputs": [
        {
          "output_type": "stream",
          "name": "stdout",
          "text": [
            "digite o dia da semana5\n",
            "hoje é quinta-feira\n"
          ]
        }
      ]
    }
  ]
}